{
 "cells": [
  {
   "cell_type": "markdown",
   "id": "c13b0e3c",
   "metadata": {},
   "source": [
    "# import"
   ]
  },
  {
   "cell_type": "code",
   "execution_count": 47,
   "id": "2e960aee",
   "metadata": {
    "ExecuteTime": {
     "end_time": "2021-06-24T05:21:08.553774Z",
     "start_time": "2021-06-24T05:21:08.356503Z"
    }
   },
   "outputs": [],
   "source": [
    "import os\n",
    "import numpy\n",
    "import json\n",
    "import codecs\n",
    "import ast\n",
    "import pandas as pd\n",
    "import gc\n",
    "import hashlib\n",
    "import itertools\n",
    "import json\n",
    "import os\n",
    "import re\n",
    "import subprocess\n",
    "import time\n",
    "import collections\n",
    "import six\n",
    "import torch\n",
    "import pandas as pd\n",
    "import matplotlib.pyplot as plt\n",
    "import urllib.request\n",
    "\n",
    "from gensim.models.word2vec import Word2Vec\n",
    "from glob import glob\n",
    "from multiprocess import Pool\n",
    "from pytorch_pretrained_bert import BertTokenizer\n",
    "\n",
    "from tqdm import tqdm\n",
    "from konlpy.tag import Komoran\n",
    "from pandas import json_normalize"
   ]
  },
  {
   "cell_type": "markdown",
   "id": "043d1e61",
   "metadata": {
    "heading_collapsed": true
   },
   "source": [
    "# create csv"
   ]
  },
  {
   "cell_type": "code",
   "execution_count": null,
   "id": "d385fa3f",
   "metadata": {
    "ExecuteTime": {
     "end_time": "2021-06-24T01:07:15.213334Z",
     "start_time": "2021-06-24T01:07:14.825480Z"
    },
    "hidden": true
   },
   "outputs": [],
   "source": [
    "full_json = json.load(codecs.open('dataset/original_json/train.json', 'r', 'utf-8-sig'))\n",
    "test_json = json.load(codecs.open('dataset/original_json/test.json', 'r', 'utf-8-sig'))\n",
    "full_json"
   ]
  },
  {
   "cell_type": "code",
   "execution_count": null,
   "id": "b9ce1b48",
   "metadata": {
    "ExecuteTime": {
     "end_time": "2021-06-24T01:07:16.395783Z",
     "start_time": "2021-06-24T01:07:16.009583Z"
    },
    "hidden": true,
    "scrolled": true
   },
   "outputs": [],
   "source": [
    "full_df = json_normalize(full_json)\n",
    "test_df = json_normalize(test_json)\n",
    "full_df.head()"
   ]
  },
  {
   "cell_type": "code",
   "execution_count": null,
   "id": "ae04692c",
   "metadata": {
    "ExecuteTime": {
     "end_time": "2021-06-24T01:07:17.644540Z",
     "start_time": "2021-06-24T01:07:17.184595Z"
    },
    "hidden": true
   },
   "outputs": [],
   "source": [
    "full_df['extractive_sents'] = full_df.apply(lambda row: list(np.array(row['article_original'])[row['extractive']]) , axis=1)\n",
    "full_df.head()"
   ]
  },
  {
   "cell_type": "code",
   "execution_count": null,
   "id": "ddc60bbf",
   "metadata": {
    "ExecuteTime": {
     "end_time": "2021-06-24T01:07:18.436512Z",
     "start_time": "2021-06-24T01:07:18.428205Z"
    },
    "hidden": true
   },
   "outputs": [],
   "source": [
    "train_df = full_df.sample(frac=0.95,random_state=42) #random state is a seed value\n",
    "valid_df = full_df.drop(train_df.index)\n",
    "train_df.reset_index(inplace=True, drop=True)\n",
    "valid_df.reset_index(inplace=True, drop=True)"
   ]
  },
  {
   "cell_type": "code",
   "execution_count": null,
   "id": "caec1081",
   "metadata": {
    "ExecuteTime": {
     "end_time": "2021-06-24T01:07:19.268972Z",
     "start_time": "2021-06-24T01:07:19.262162Z"
    },
    "hidden": true
   },
   "outputs": [],
   "source": [
    "train_df.head()"
   ]
  },
  {
   "cell_type": "code",
   "execution_count": null,
   "id": "c1926c5f",
   "metadata": {
    "ExecuteTime": {
     "end_time": "2021-06-24T01:07:20.097637Z",
     "start_time": "2021-06-24T01:07:20.090765Z"
    },
    "hidden": true
   },
   "outputs": [],
   "source": [
    "valid_df.head()"
   ]
  },
  {
   "cell_type": "markdown",
   "id": "4ad06104",
   "metadata": {
    "heading_collapsed": true
   },
   "source": [
    "# 형태소 분석"
   ]
  },
  {
   "cell_type": "code",
   "execution_count": null,
   "id": "ddc97276",
   "metadata": {
    "ExecuteTime": {
     "end_time": "2021-06-24T02:36:45.244831Z",
     "start_time": "2021-06-24T02:36:44.042422Z"
    },
    "hidden": true
   },
   "outputs": [],
   "source": [
    "komoran = Komoran()"
   ]
  },
  {
   "cell_type": "code",
   "execution_count": null,
   "id": "71eea0a3",
   "metadata": {
    "ExecuteTime": {
     "end_time": "2021-06-24T02:37:20.516509Z",
     "start_time": "2021-06-24T02:37:20.511526Z"
    },
    "hidden": true
   },
   "outputs": [],
   "source": [
    "def converter_morp(text):\n",
    "    conv_text = []\n",
    "    for i in range(len(text)):\n",
    "        conv_text.append(komoran.pos(text[i],join=True))\n",
    "    return conv_text"
   ]
  },
  {
   "cell_type": "code",
   "execution_count": null,
   "id": "c2436bb4",
   "metadata": {
    "ExecuteTime": {
     "end_time": "2021-06-24T02:45:23.006355Z",
     "start_time": "2021-06-24T02:37:24.455024Z"
    },
    "hidden": true,
    "scrolled": true
   },
   "outputs": [],
   "source": [
    "tqdm.pandas()\n",
    "\n",
    "train_df['article_morp'] = train_df['article_original'].progress_apply(converter_morp)\n",
    "train_df.head()"
   ]
  },
  {
   "cell_type": "code",
   "execution_count": null,
   "id": "e2591465",
   "metadata": {
    "ExecuteTime": {
     "end_time": "2021-06-24T02:45:44.598124Z",
     "start_time": "2021-06-24T02:45:24.124403Z"
    },
    "hidden": true
   },
   "outputs": [],
   "source": [
    "valid_df['article_morp'] = valid_df['article_original'].progress_apply(converter_morp)\n",
    "valid_df.head()"
   ]
  },
  {
   "cell_type": "code",
   "execution_count": null,
   "id": "6b12a6b8",
   "metadata": {
    "ExecuteTime": {
     "end_time": "2021-06-24T02:46:40.551314Z",
     "start_time": "2021-06-24T02:45:45.687980Z"
    },
    "hidden": true
   },
   "outputs": [],
   "source": [
    "test_df['article_morp'] = test_df['article_original'].progress_apply(converter_morp)\n",
    "test_df.head()"
   ]
  },
  {
   "cell_type": "code",
   "execution_count": null,
   "id": "1b4458f9",
   "metadata": {
    "ExecuteTime": {
     "end_time": "2021-06-24T02:46:44.173661Z",
     "start_time": "2021-06-24T02:46:41.629264Z"
    },
    "hidden": true
   },
   "outputs": [],
   "source": [
    "train_df.to_csv('dataset/csv/train.csv',index=False)\n",
    "valid_df.to_csv('dataset/csv/valid.csv',index=False)\n",
    "test_df.to_csv('dataset/csv/test.csv',index=False)"
   ]
  },
  {
   "cell_type": "code",
   "execution_count": null,
   "id": "14ebd5b5",
   "metadata": {
    "ExecuteTime": {
     "end_time": "2021-06-24T02:47:56.157430Z",
     "start_time": "2021-06-24T02:47:56.136203Z"
    },
    "hidden": true
   },
   "outputs": [],
   "source": [
    "temp_df = train_df.loc[0:3]\n",
    "temp_df.head()"
   ]
  },
  {
   "cell_type": "markdown",
   "id": "930abcda",
   "metadata": {},
   "source": [
    "# load df && df to json"
   ]
  },
  {
   "cell_type": "code",
   "execution_count": 31,
   "id": "b7e774c6",
   "metadata": {
    "ExecuteTime": {
     "end_time": "2021-06-24T05:07:35.058433Z",
     "start_time": "2021-06-24T05:07:34.205928Z"
    }
   },
   "outputs": [],
   "source": [
    "train_df = pd.read_csv('dataset/csv/train.csv')\n",
    "valid_df = pd.read_csv('dataset/csv/valid.csv')\n",
    "test_df = pd.read_csv('dataset/csv/test.csv')"
   ]
  },
  {
   "cell_type": "code",
   "execution_count": 32,
   "id": "23bf8a1f",
   "metadata": {
    "ExecuteTime": {
     "end_time": "2021-06-24T04:59:52.323660Z",
     "start_time": "2021-06-24T04:59:42.643972Z"
    }
   },
   "outputs": [],
   "source": [
    "train_df['extractive'] = train_df['extractive'].apply(ast.literal_eval)\n",
    "train_df['article_original'] = train_df['article_original'].apply(ast.literal_eval)\n",
    "train_df['extractive_sents'] = train_df['extractive_sents'].apply(ast.literal_eval)\n",
    "train_df['article_morp'] = train_df['article_morp'].apply(ast.literal_eval)"
   ]
  },
  {
   "cell_type": "code",
   "execution_count": 33,
   "id": "ea27c524",
   "metadata": {
    "ExecuteTime": {
     "end_time": "2021-06-24T04:59:53.173813Z",
     "start_time": "2021-06-24T04:59:52.540603Z"
    }
   },
   "outputs": [],
   "source": [
    "valid_df['extractive'] = valid_df['extractive'].apply(ast.literal_eval)\n",
    "valid_df['article_original'] = valid_df['article_original'].apply(ast.literal_eval)\n",
    "valid_df['extractive_sents'] = valid_df['extractive_sents'].apply(ast.literal_eval)\n",
    "valid_df['article_morp'] = valid_df['article_morp'].apply(ast.literal_eval)"
   ]
  },
  {
   "cell_type": "code",
   "execution_count": 34,
   "id": "8f323224",
   "metadata": {
    "ExecuteTime": {
     "end_time": "2021-06-24T04:59:54.664651Z",
     "start_time": "2021-06-24T04:59:53.482851Z"
    }
   },
   "outputs": [],
   "source": [
    "test_df['article_original'] = test_df['article_original'].apply(ast.literal_eval)\n",
    "test_df['article_morp'] = test_df['article_morp'].apply(ast.literal_eval)"
   ]
  },
  {
   "cell_type": "code",
   "execution_count": 6,
   "id": "b262257a",
   "metadata": {
    "ExecuteTime": {
     "end_time": "2021-06-24T04:59:55.075857Z",
     "start_time": "2021-06-24T04:59:55.052362Z"
    }
   },
   "outputs": [
    {
     "data": {
      "text/html": [
       "<div>\n",
       "<style scoped>\n",
       "    .dataframe tbody tr th:only-of-type {\n",
       "        vertical-align: middle;\n",
       "    }\n",
       "\n",
       "    .dataframe tbody tr th {\n",
       "        vertical-align: top;\n",
       "    }\n",
       "\n",
       "    .dataframe thead th {\n",
       "        text-align: right;\n",
       "    }\n",
       "</style>\n",
       "<table border=\"1\" class=\"dataframe\">\n",
       "  <thead>\n",
       "    <tr style=\"text-align: right;\">\n",
       "      <th></th>\n",
       "      <th>id</th>\n",
       "      <th>extractive</th>\n",
       "      <th>article_original</th>\n",
       "      <th>extractive_sents</th>\n",
       "      <th>article_morp</th>\n",
       "    </tr>\n",
       "  </thead>\n",
       "  <tbody>\n",
       "    <tr>\n",
       "      <th>0</th>\n",
       "      <td>191521</td>\n",
       "      <td>[9, 7, 19]</td>\n",
       "      <td>[[1] 의장이 동일·유사하다고 하려면, 우선 의장이 표현된 물품이 동일·유사하여야...</td>\n",
       "      <td>[[3] 의장의 유사 여부는 이를 구성하는 각 요소를 분리하여 개별적으로 대비할 것...</td>\n",
       "      <td>[[[/SS, 1/SN, ]/SS, 의장/NNG, 이/JKS, 동일/NNG, ·/S...</td>\n",
       "    </tr>\n",
       "    <tr>\n",
       "      <th>1</th>\n",
       "      <td>102453</td>\n",
       "      <td>[0, 3, 4]</td>\n",
       "      <td>[가. 자동차운수사업법 제31조 제5호 소정의 \"중대한 교통사고\"에 해당하는지의 여...</td>\n",
       "      <td>[가. 자동차운수사업법 제31조 제5호 소정의 \"중대한 교통사고\"에 해당하는지의 여...</td>\n",
       "      <td>[[가/VV, 아/EF, ./SF, 자동차/NNP, 운수/NNP, 사업/NNP, 법...</td>\n",
       "    </tr>\n",
       "    <tr>\n",
       "      <th>2</th>\n",
       "      <td>83026</td>\n",
       "      <td>[0, 1, 6]</td>\n",
       "      <td>[[1] 형사재판에 있어서 공소가 제기된 범죄사실에 대한 입증책임은 검사에 있고,,...</td>\n",
       "      <td>[[1] 형사재판에 있어서 공소가 제기된 범죄사실에 대한 입증책임은 검사에 있고,,...</td>\n",
       "      <td>[[[/SS, 1/SN, ]/SS, 형사/NNP, 재판/NNP, 에/JKB, 있/V...</td>\n",
       "    </tr>\n",
       "    <tr>\n",
       "      <th>3</th>\n",
       "      <td>156607</td>\n",
       "      <td>[0, 2, 3]</td>\n",
       "      <td>[어음행위의 대리에 있어서는 형식적 요건으로서 본인을 위한다는 대리의 문구를 기재하...</td>\n",
       "      <td>[어음행위의 대리에 있어서는 형식적 요건으로서 본인을 위한다는 대리의 문구를 기재하...</td>\n",
       "      <td>[[어음/NNP, 행위/NNP, 의/JKG, 대리/NNP, 에/JKB, 있/VV, ...</td>\n",
       "    </tr>\n",
       "    <tr>\n",
       "      <th>4</th>\n",
       "      <td>196021</td>\n",
       "      <td>[0, 3, 4]</td>\n",
       "      <td>[구 병역법(2009. 6. 9. 법률 제9754호로 개정되기 전의 것) 제70조 ...</td>\n",
       "      <td>[구 병역법(2009. 6. 9. 법률 제9754호로 개정되기 전의 것) 제70조 ...</td>\n",
       "      <td>[[구/NNG, 병역법/NNP, (/SS, 2009/SN, ./SF, 6/SN, ....</td>\n",
       "    </tr>\n",
       "  </tbody>\n",
       "</table>\n",
       "</div>"
      ],
      "text/plain": [
       "       id  extractive                                   article_original  \\\n",
       "0  191521  [9, 7, 19]  [[1] 의장이 동일·유사하다고 하려면, 우선 의장이 표현된 물품이 동일·유사하여야...   \n",
       "1  102453   [0, 3, 4]  [가. 자동차운수사업법 제31조 제5호 소정의 \"중대한 교통사고\"에 해당하는지의 여...   \n",
       "2   83026   [0, 1, 6]  [[1] 형사재판에 있어서 공소가 제기된 범죄사실에 대한 입증책임은 검사에 있고,,...   \n",
       "3  156607   [0, 2, 3]  [어음행위의 대리에 있어서는 형식적 요건으로서 본인을 위한다는 대리의 문구를 기재하...   \n",
       "4  196021   [0, 3, 4]  [구 병역법(2009. 6. 9. 법률 제9754호로 개정되기 전의 것) 제70조 ...   \n",
       "\n",
       "                                    extractive_sents  \\\n",
       "0  [[3] 의장의 유사 여부는 이를 구성하는 각 요소를 분리하여 개별적으로 대비할 것...   \n",
       "1  [가. 자동차운수사업법 제31조 제5호 소정의 \"중대한 교통사고\"에 해당하는지의 여...   \n",
       "2  [[1] 형사재판에 있어서 공소가 제기된 범죄사실에 대한 입증책임은 검사에 있고,,...   \n",
       "3  [어음행위의 대리에 있어서는 형식적 요건으로서 본인을 위한다는 대리의 문구를 기재하...   \n",
       "4  [구 병역법(2009. 6. 9. 법률 제9754호로 개정되기 전의 것) 제70조 ...   \n",
       "\n",
       "                                        article_morp  \n",
       "0  [[[/SS, 1/SN, ]/SS, 의장/NNG, 이/JKS, 동일/NNG, ·/S...  \n",
       "1  [[가/VV, 아/EF, ./SF, 자동차/NNP, 운수/NNP, 사업/NNP, 법...  \n",
       "2  [[[/SS, 1/SN, ]/SS, 형사/NNP, 재판/NNP, 에/JKB, 있/V...  \n",
       "3  [[어음/NNP, 행위/NNP, 의/JKG, 대리/NNP, 에/JKB, 있/VV, ...  \n",
       "4  [[구/NNG, 병역법/NNP, (/SS, 2009/SN, ./SF, 6/SN, ....  "
      ]
     },
     "execution_count": 6,
     "metadata": {},
     "output_type": "execute_result"
    }
   ],
   "source": [
    "train_df.head()"
   ]
  },
  {
   "cell_type": "code",
   "execution_count": 11,
   "id": "8b03946d",
   "metadata": {
    "ExecuteTime": {
     "end_time": "2021-06-24T05:01:50.926787Z",
     "start_time": "2021-06-24T05:01:50.922564Z"
    }
   },
   "outputs": [],
   "source": [
    "def csv_to_json(df,mode):\n",
    "    list_dic = []\n",
    "    for idx, row in df.iterrows():\n",
    "        mydict = {}\n",
    "        mydict['src'] = row['article_morp']\n",
    "        \n",
    "        if mode is not 'test':\n",
    "            mydict['tgt'] = [a for i,a in enumerate(mydict['src']) if i in row['extractive']]\n",
    "        \n",
    "        list_dic.append(mydict)\n",
    "    temp = []\n",
    "    for i,a in enumerate(list_dic):\n",
    "        if (i+1)%6!=0:\n",
    "            temp.append(a)\n",
    "        else:\n",
    "            filename = 'korean.'+mode+'.'+str(i//6)+'.json'\n",
    "            with open('dataset/converter_json/'+mode+'/'+filename, \"w\", encoding='utf8') as json_file:\n",
    "                json.dump(temp, json_file, ensure_ascii=False)\n",
    "            temp = []"
   ]
  },
  {
   "cell_type": "code",
   "execution_count": 12,
   "id": "0b688c7e",
   "metadata": {
    "ExecuteTime": {
     "end_time": "2021-06-24T05:01:58.677714Z",
     "start_time": "2021-06-24T05:01:51.321931Z"
    }
   },
   "outputs": [
    {
     "name": "stderr",
     "output_type": "stream",
     "text": [
      "0it [00:00, ?it/s]\n",
      "0it [00:00, ?it/s]\n",
      "0it [00:00, ?it/s]"
     ]
    },
    {
     "data": {
      "text/plain": [
       "<tqdm.std.tqdm at 0x7fcbcbf9e0f0>"
      ]
     },
     "execution_count": 12,
     "metadata": {},
     "output_type": "execute_result"
    }
   ],
   "source": [
    "csv_to_json(train_df,'train')\n",
    "csv_to_json(valid_df,'valid')\n",
    "csv_to_json(test_df,'test')"
   ]
  }
 ],
 "metadata": {
  "kernelspec": {
   "display_name": "Python 3",
   "language": "python",
   "name": "python3"
  },
  "language_info": {
   "codemirror_mode": {
    "name": "ipython",
    "version": 3
   },
   "file_extension": ".py",
   "mimetype": "text/x-python",
   "name": "python",
   "nbconvert_exporter": "python",
   "pygments_lexer": "ipython3",
   "version": "3.6.9"
  },
  "toc": {
   "base_numbering": 1,
   "nav_menu": {},
   "number_sections": true,
   "sideBar": true,
   "skip_h1_title": false,
   "title_cell": "Table of Contents",
   "title_sidebar": "Contents",
   "toc_cell": false,
   "toc_position": {},
   "toc_section_display": true,
   "toc_window_display": false
  },
  "varInspector": {
   "cols": {
    "lenName": 16,
    "lenType": 16,
    "lenVar": 40
   },
   "kernels_config": {
    "python": {
     "delete_cmd_postfix": "",
     "delete_cmd_prefix": "del ",
     "library": "var_list.py",
     "varRefreshCmd": "print(var_dic_list())"
    },
    "r": {
     "delete_cmd_postfix": ") ",
     "delete_cmd_prefix": "rm(",
     "library": "var_list.r",
     "varRefreshCmd": "cat(var_dic_list()) "
    }
   },
   "types_to_exclude": [
    "module",
    "function",
    "builtin_function_or_method",
    "instance",
    "_Feature"
   ],
   "window_display": false
  }
 },
 "nbformat": 4,
 "nbformat_minor": 5
}
