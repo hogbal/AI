{
 "cells": [
  {
   "cell_type": "markdown",
   "id": "713964ee",
   "metadata": {},
   "source": [
    "# import"
   ]
  },
  {
   "cell_type": "code",
   "execution_count": 9,
   "id": "b37bd2ee",
   "metadata": {
    "ExecuteTime": {
     "end_time": "2021-06-24T07:25:04.886165Z",
     "start_time": "2021-06-24T07:25:04.882389Z"
    }
   },
   "outputs": [],
   "source": [
    "import json\n",
    "import codecs"
   ]
  },
  {
   "cell_type": "markdown",
   "id": "5c82e29c",
   "metadata": {},
   "source": [
    "# converter"
   ]
  },
  {
   "cell_type": "code",
   "execution_count": 10,
   "id": "0a325272",
   "metadata": {
    "ExecuteTime": {
     "end_time": "2021-06-24T07:25:05.554400Z",
     "start_time": "2021-06-24T07:25:05.353791Z"
    }
   },
   "outputs": [],
   "source": [
    "train_json = json.load(codecs.open('dataset/json/train.json', 'r', 'utf-8-sig'))\n",
    "test_json = json.load(codecs.open('dataset/json/test.json', 'r', 'utf-8-sig'))"
   ]
  },
  {
   "cell_type": "code",
   "execution_count": 11,
   "id": "630d705f",
   "metadata": {
    "ExecuteTime": {
     "end_time": "2021-06-24T07:25:06.366536Z",
     "start_time": "2021-06-24T07:25:05.748426Z"
    }
   },
   "outputs": [],
   "source": [
    "with open('dataset/jsonl/train.jsonl', 'w',encoding='utf-8') as outfile:\n",
    "    for entry in train_json:\n",
    "        json.dump(entry, outfile, ensure_ascii=False)\n",
    "        outfile.write('\\n')\n",
    "        \n",
    "with open('dataset/jsonl/test.jsonl', 'w',encoding='utf-8') as outfile:\n",
    "    for entry in test_json:\n",
    "        json.dump(entry, outfile, ensure_ascii=False)\n",
    "        outfile.write('\\n')"
   ]
  },
  {
   "cell_type": "code",
   "execution_count": null,
   "id": "cb01524a",
   "metadata": {},
   "outputs": [],
   "source": []
  }
 ],
 "metadata": {
  "kernelspec": {
   "display_name": "Python 3",
   "language": "python",
   "name": "python3"
  },
  "language_info": {
   "codemirror_mode": {
    "name": "ipython",
    "version": 3
   },
   "file_extension": ".py",
   "mimetype": "text/x-python",
   "name": "python",
   "nbconvert_exporter": "python",
   "pygments_lexer": "ipython3",
   "version": "3.6.9"
  },
  "toc": {
   "base_numbering": 1,
   "nav_menu": {},
   "number_sections": true,
   "sideBar": true,
   "skip_h1_title": false,
   "title_cell": "Table of Contents",
   "title_sidebar": "Contents",
   "toc_cell": false,
   "toc_position": {},
   "toc_section_display": true,
   "toc_window_display": false
  },
  "varInspector": {
   "cols": {
    "lenName": 16,
    "lenType": 16,
    "lenVar": 40
   },
   "kernels_config": {
    "python": {
     "delete_cmd_postfix": "",
     "delete_cmd_prefix": "del ",
     "library": "var_list.py",
     "varRefreshCmd": "print(var_dic_list())"
    },
    "r": {
     "delete_cmd_postfix": ") ",
     "delete_cmd_prefix": "rm(",
     "library": "var_list.r",
     "varRefreshCmd": "cat(var_dic_list()) "
    }
   },
   "types_to_exclude": [
    "module",
    "function",
    "builtin_function_or_method",
    "instance",
    "_Feature"
   ],
   "window_display": false
  }
 },
 "nbformat": 4,
 "nbformat_minor": 5
}
