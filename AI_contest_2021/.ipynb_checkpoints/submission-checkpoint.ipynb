{
 "cells": [
  {
   "cell_type": "markdown",
   "id": "d6fd6532",
   "metadata": {},
   "source": [
    "# import"
   ]
  },
  {
   "cell_type": "code",
   "execution_count": 1,
   "id": "6b6aa20a",
   "metadata": {
    "ExecuteTime": {
     "end_time": "2021-06-28T07:34:02.806690Z",
     "start_time": "2021-06-28T07:34:02.656316Z"
    }
   },
   "outputs": [],
   "source": [
    "import os\n",
    "import json\n",
    "import codecs\n",
    "import pandas as pd\n",
    "\n",
    "from glob import glob\n",
    "from tqdm import tqdm"
   ]
  },
  {
   "cell_type": "markdown",
   "id": "3a735413",
   "metadata": {},
   "source": [
    "# load submission"
   ]
  },
  {
   "cell_type": "code",
   "execution_count": 2,
   "id": "91aa20aa",
   "metadata": {
    "ExecuteTime": {
     "end_time": "2021-06-28T07:34:02.991867Z",
     "start_time": "2021-06-28T07:34:02.948308Z"
    }
   },
   "outputs": [
    {
     "data": {
      "text/plain": [
       "[{'ID': 79095, 'summary_index1': 0, 'summary_index2': 1, 'summary_index3': 2},\n",
       " {'ID': 204506, 'summary_index1': 0, 'summary_index2': 1, 'summary_index3': 2},\n",
       " {'ID': 142079, 'summary_index1': 0, 'summary_index2': 1, 'summary_index3': 2},\n",
       " {'ID': 110816, 'summary_index1': 0, 'summary_index2': 1, 'summary_index3': 2},\n",
       " {'ID': 207249, 'summary_index1': 0, 'summary_index2': 1, 'summary_index3': 2}]"
      ]
     },
     "execution_count": 2,
     "metadata": {},
     "output_type": "execute_result"
    }
   ],
   "source": [
    "submission_path = 'dataset/json/sample_submission.json'\n",
    "submission_json = json.load(codecs.open(submission_path, 'r', 'utf-8-sig'))\n",
    "submission_json[:5]"
   ]
  },
  {
   "cell_type": "code",
   "execution_count": 3,
   "id": "f315b4aa",
   "metadata": {
    "ExecuteTime": {
     "end_time": "2021-06-28T07:34:03.190973Z",
     "start_time": "2021-06-28T07:34:03.128902Z"
    }
   },
   "outputs": [
    {
     "data": {
      "text/plain": [
       "[{'id': 79095,\n",
       "  'article_original': ['승객이 놓고 내린 지하철의 전동차 바닥이나 선반 위에 있던 물건을 가지고 간 경우,',\n",
       "   '지하철의 승무원은 유실물법상 전동차의 관수자로서 승객이 잊고 내린 유실물을 교부받을 권능을 가질 뿐 전동차 안에 있는 승객의 물건을 점유한다고 할 수 없고,',\n",
       "   '그 유실물을 현실적으로 발견하지 않는 한 이에 대한 점유를 개시하였다고 할 수도 없으므로,',\n",
       "   '그 사이에 위와 같은 유실물을 발견하고',\n",
       "   '가져간 행위는 점유이탈물횡령죄에 해당함은 별론으로 하고',\n",
       "   '절도죄에 해당하지는 않는다.']},\n",
       " {'id': 204506,\n",
       "  'article_original': ['[1] 영업비밀 보유자가 거래 상대방에게 영업비밀을 사용하도록 승낙하는 의사표시는 일정한 방식이 요구되지 않고 묵시적 의사표시로도 할 수 있다.',\n",
       "   '위와 같은 묵시적 의사표시의 존재는 거래 상대방과 체결한 영업비밀 관련 계약의 내용,',\n",
       "   '영업비밀 보유자가 사용하도록 승낙한 것으로 볼 수 있는 범위,',\n",
       "   '관련 분야의 거래 실정,',\n",
       "   '당사자의 태도 등 여러 사정을 종합적으로 고려하여 판단하여야 한다.',\n",
       "   '[2] 甲 주식회사가 乙 주식회사와 설계기술용역계약을 체결하여 乙 회사가 건설하는 화력발전소에 관한 설계자료를 작성해 주었는데,',\n",
       "   '乙 회사가 신규 화력발전소를 건설하면서 乙 회사와 설계기술용역계약을 체결한 丙 주식회사에 위 설계자료를 제공하여 사용하도록 하자,',\n",
       "   '甲 회사가 乙 회사를 상대로 비밀유지의무를 위반하였다며 부정경쟁방지 및 영업비밀보호에 관한 법률 등에 따른 손해배상을 구한 사안에서,',\n",
       "   \"甲 회사와 乙 회사가 체결한 설계기술용역계약의 계약서에 '준공자료는 본 발전소 운전 및 정비에 필수적으로 이용되고,\",\n",
       "   \"향후 발전소 건설 시 중요한 참고자료로 이용될 것'이라는 내용이 명시되어 있는 점 등 제반 사정에 비추어 乙 회사가 丙 회사에 신규 화력발전소의 설계 목적 범위에서 위 설계자료를 제공하여 사용하도록 하는 것에 대하여 甲 회사의 묵시적인 승낙이 있었다고 본 원심판단을 정당하다고 한 사례.\"]},\n",
       " {'id': 142079,\n",
       "  'article_original': ['[1] 구 상속세 및 증여세법(2010. 1. 1. 법률 제9916호로 개정되기 전의 것) 제60조는 제1항에서 상속 또는 증여재산의 평가에 있어서 시가주의 원칙을 선언하고 있고,',\n",
       "   '제2항에서 그 시가가 일반적이고',\n",
       "   '정상적인 거래에 의하여 형성된 것으로서',\n",
       "   '객관적인 교환가치를 적정하게 반영한 것이어야 함을 전제로 시가로 인정될 수 있는 대략적인 기준을 제시하면서 그 구체적인 범위를 대통령령으로 정하도록 위임하고 있는데,',\n",
       "   \"그 위임을 받은 구 상속세 및 증여세법 시행령(2006. 2. 9. 대통령령 제19333호로 개정되기 전의 것) 제49조 제1항 각 호에서 과세대상인 '당해 재산'에 대한 거래가액 등을 시가로 규정한 것은 상속 또는 증여재산의 시가로 볼 수 있는 대표적인 경우를 예시한 것이다.\",\n",
       "   \"그리고 위 법 제60조 제2항이 과세대상인 '당해 재산'에 대한 거래가액 등만을 시가에 포함하도록 한정하고 있지 않은 이상,\",\n",
       "   '위 시행령 제49조 제5항에서 과세대상인 당해 재산과 동일하거나 유사한 다른 재산에 대한 거래가액 등을 시가로 보도록 규정한 것은 모법인 위 법 제60조 제2항이 예정하고 있는 시가의 범위를 구체화·명확화한 것으로서',\n",
       "   '그 비교대상이 되는 다른 재산의 범위도 면적·위치·용도 등 구체적 기준을 정하여 한정하고 있으므로,',\n",
       "   '위 시행령 제49조 제5항이 헌법상의 재산권보장 원칙 등에 위배되거나 위임입법의 한계를 벗어난 것으로서',\n",
       "   '무효의 규정이라고 할 수 없다.',\n",
       "   '[2] 구 상속세 및 증여세법(2006. 12. 30. 법률 제8139호로 개정되기 전의 것) 제78조 제2항의 규정 내용 및 증여세 납부불성실가산세는 납세의무자로 하여금 성실하게 세액을 납부하도록 유도하기 위한 것으로서',\n",
       "   '신고납부기한까지 미납부한 금액에 대하여는 금융혜택을 받은 것으로 보아 그 납부의무 위반에 대하여 가하는 행정상의 제재인 점 등을 종합하여 보면,',\n",
       "   '증여재산의 가액에 대한 평가상의 차이로 인하여 미납부한 세액이라고 하더라도 납부불성실가산세의 부과대상에서 제외된다고 할 수는 없고,',\n",
       "   '나아가 위와 같은 사정만으로는 납부하여야 할 세액에 미달하게 납부한 데 대하여 정당한 사유가 있다고 볼 수도 없다.']},\n",
       " {'id': 110816,\n",
       "  'article_original': ['가. 처분문서는 그 진정성립이 인정되는 이상 법원은 그 기재내용을 부인할 만한 분명하고도 수긍할 수 있는 반증이 없는 한 그 기재내용대로의 의사표시의 존재 및 내용을 인정하여야 한다.',\n",
       "   '나. 처분문서에 나타난 당사자의 의사를 해석함에 있어서 그 문언의 내용 이외에 그와 같은 약정이 이루어진 동기와 경위,',\n",
       "   '그 약정에 의하여 달성하려고 하는 목적,',\n",
       "   '당사자의 진정한 의사 등을 종합적으로 고찰하여 논리와 경험법칙에 의하여 합리적으로 해석하여야 한다.',\n",
       "   '다. 계는 다같이 금전을 급부물로 하는 것이라도 그것을 조직한 목적과 방법,',\n",
       "   '급부물의 급여방법과 급부 전후의 계금지급방법,',\n",
       "   '계주의 유무 및 계주와 계 또는 계원 상호간의 관계 여하와 기타의 점에 관한 태양 여하에 따라 그 법률적 성질을 달리하는 것이다.',\n",
       "   '라. 낙찰계는 각 계원이 조합원으로서 상호 출자하여 공동사업을 경영하는 이른바 민법상 조합계약의 성격을 띠고 있는 것이 아니라 계주가 자기의 개인사업으로 계를 조직 운영하는 것이라 할 것이고,',\n",
       "   '위와 같은 성질의 계에서는 계금 및 계불입금 등의 계산관계는 오직 계주와 각 계원 사이에 개별적으로 존재하는 것이므로,',\n",
       "   '계가 깨어졌다 하여 그 계가 조합적 성질을 띠고 있음을 전제로 한 해산이나 청산의 문제도 생길 여지가 없다.']},\n",
       " {'id': 207249,\n",
       "  'article_original': ['농지개량조합이 고용원을 일정기간 채용한 뒤 해임하고',\n",
       "   '대부분 바로 그 다음날에 다시 임명하거나 해임한 날로부터 불과 4일 또는 20일후에 다시 임명한 것처럼 서류를 만들어 놓았으나',\n",
       "   '고용원이 사실상 그 동안 계속 근속한 경우에는 해고로서의 효력은 생기지 아니하고',\n",
       "   '또한 일용으로 임금을 계산한 일용관계가 간단없이 계속되어 상용근로자와 같이 월급으로 임금을 받았다면',\n",
       "   '위 조합의 보수규정상 정원에 있는 고용원에 준하여 퇴직금을 지급하는 것이 상당하다.']}]"
      ]
     },
     "execution_count": 3,
     "metadata": {},
     "output_type": "execute_result"
    }
   ],
   "source": [
    "test_path = 'dataset/json/test.json'\n",
    "test_json = json.load(codecs.open(test_path, 'r', 'utf-8-sig'))\n",
    "test_json[:5]"
   ]
  },
  {
   "cell_type": "markdown",
   "id": "ec9f2208",
   "metadata": {},
   "source": [
    "# load candidate"
   ]
  },
  {
   "cell_type": "code",
   "execution_count": 4,
   "id": "a9028719",
   "metadata": {
    "ExecuteTime": {
     "end_time": "2021-06-28T07:34:03.883410Z",
     "start_time": "2021-06-28T07:34:03.873489Z"
    }
   },
   "outputs": [
    {
     "data": {
      "text/plain": [
       "['지하철의 승무원은 유실물법상 전동차의 관수자로서 승객이 잊고 내린 유실물을 교부받을 권능을 가질 뿐 전동차 안에 있는 승객의 물건을 점유한다고 할 수 없고,<q>절도죄에 해당하지는 않는다.<q>가져간 행위는 점유이탈물횡령죄에 해당함은 별론으로 하고[1, 5, 4]\\n',\n",
       " \"향후 발전소 건설 시 중요한 참고자료로 이용될 것'이라는 내용이 명시되어 있는 점 등 제반 사정에 비추어 乙 회사가 丙 회사에 신규 화력발전소의 설계 목적 범위에서 위 설계자료를 제공하여 사용하도록 하는 것에 대하여 甲 회사의 묵시적인 승낙이 있었다고 본 원심판단을 정당하다고 한 사례.<q>[1] 영업비밀 보유자가 거래 상대방에게 영업비밀을 사용하도록 승낙하는 의사표시는 일정한 방식이 요구되지 않고 묵시적 의사표시로도 할 수 있다.<q>[2] 甲 주식회사가 乙 주식회사와 설계기술용역계약을 체결하여 乙 회사가 건설하는 화력발전소에 관한 설계자료를 작성해 주었는데,[9, 0, 5]\\n\",\n",
       " '객관적인 교환가치를 적정하게 반영한 것이어야 함을 전제로 시가로 인정될 수 있는 대략적인 기준을 제시하면서 그 구체적인 범위를 대통령령으로 정하도록 위임하고 있는데,<q>[2] 구 상속세 및 증여세법(2006. 12. 30. 법률 제8139호로 개정되기 전의 것) 제78조 제2항의 규정 내용 및 증여세 납부불성실가산세는 납세의무자로 하여금 성실하게 세액을 납부하도록 유도하기 위한 것으로서<q>위 시행령 제49조 제5항에서 과세대상인 당해 재산과 동일하거나 유사한 다른 재산에 대한 거래가액 등을 시가로 보도록 규정한 것은 모법인 위 법 제60조 제2항이 예정하고 있는 시가의 범위를 구체화·명확화한 것으로서[3, 10, 6]\\n',\n",
       " '가. 처분문서는 그 진정성립이 인정되는 이상 법원은 그 기재내용을 부인할 만한 분명하고도 수긍할 수 있는 반증이 없는 한 그 기재내용대로의 의사표시의 존재 및 내용을 인정하여야 한다.<q>계가 깨어졌다 하여 그 계가 조합적 성질을 띠고 있음을 전제로 한 해산이나 청산의 문제도 생길 여지가 없다.<q>당사자의 진정한 의사 등을 종합적으로 고찰하여 논리와 경험법칙에 의하여 합리적으로 해석하여야 한다.[0, 9, 3]\\n',\n",
       " '위 조합의 보수규정상 정원에 있는 고용원에 준하여 퇴직금을 지급하는 것이 상당하다.<q>또한 일용으로 임금을 계산한 일용관계가 간단없이 계속되어 상용근로자와 같이 월급으로 임금을 받았다면<q>대부분 바로 그 다음날에 다시 임명하거나 해임한 날로부터 불과 4일 또는 20일후에 다시 임명한 것처럼 서류를 만들어 놓았으나[4, 3, 1]\\n']"
      ]
     },
     "execution_count": 4,
     "metadata": {},
     "output_type": "execute_result"
    }
   ],
   "source": [
    "results_path = 'results/result_1209_1236_step_9000.candidate'\n",
    "\n",
    "with open(results_path,'r') as file:\n",
    "    lines = file.readlines()\n",
    "lines[:5]"
   ]
  },
  {
   "cell_type": "code",
   "execution_count": 5,
   "id": "e0943c04",
   "metadata": {
    "ExecuteTime": {
     "end_time": "2021-06-28T07:34:04.509993Z",
     "start_time": "2021-06-28T07:34:04.498266Z"
    }
   },
   "outputs": [
    {
     "data": {
      "text/plain": [
       "[{'sum_sents_tokenized': '지하철의 승무원은 유실물법상 전동차의 관수자로서 승객이 잊고 내린 유실물을 교부받을 권능을 가질 뿐 전동차 안에 있는 승객의 물건을 점유한다고 할 수 없고,\\n절도죄에 해당하지는 않는다.\\n가져간 행위는 점유이탈물횡령죄에 해당함은 별론으로 하고',\n",
       "  'sum_sents_idxes': [1, 5, 4]},\n",
       " {'sum_sents_tokenized': \"향후 발전소 건설 시 중요한 참고자료로 이용될 것'이라는 내용이 명시되어 있는 점 등 제반 사정에 비추어 乙 회사가 丙 회사에 신규 화력발전소의 설계 목적 범위에서 위 설계자료를 제공하여 사용하도록 하는 것에 대하여 甲 회사의 묵시적인 승낙이 있었다고 본 원심판단을 정당하다고 한 사례.\\n[1] 영업비밀 보유자가 거래 상대방에게 영업비밀을 사용하도록 승낙하는 의사표시는 일정한 방식이 요구되지 않고 묵시적 의사표시로도 할 수 있다.\\n[2] 甲 주식회사가 乙 주식회사와 설계기술용역계약을 체결하여 乙 회사가 건설하는 화력발전소에 관한 설계자료를 작성해 주었는데,\",\n",
       "  'sum_sents_idxes': [9, 0, 5]},\n",
       " {'sum_sents_tokenized': '객관적인 교환가치를 적정하게 반영한 것이어야 함을 전제로 시가로 인정될 수 있는 대략적인 기준을 제시하면서 그 구체적인 범위를 대통령령으로 정하도록 위임하고 있는데,\\n[2] 구 상속세 및 증여세법(2006. 12. 30. 법률 제8139호로 개정되기 전의 것) 제78조 제2항의 규정 내용 및 증여세 납부불성실가산세는 납세의무자로 하여금 성실하게 세액을 납부하도록 유도하기 위한 것으로서\\n위 시행령 제49조 제5항에서 과세대상인 당해 재산과 동일하거나 유사한 다른 재산에 대한 거래가액 등을 시가로 보도록 규정한 것은 모법인 위 법 제60조 제2항이 예정하고 있는 시가의 범위를 구체화·명확화한 것으로서',\n",
       "  'sum_sents_idxes': [3, 10, 6]},\n",
       " {'sum_sents_tokenized': '가. 처분문서는 그 진정성립이 인정되는 이상 법원은 그 기재내용을 부인할 만한 분명하고도 수긍할 수 있는 반증이 없는 한 그 기재내용대로의 의사표시의 존재 및 내용을 인정하여야 한다.\\n계가 깨어졌다 하여 그 계가 조합적 성질을 띠고 있음을 전제로 한 해산이나 청산의 문제도 생길 여지가 없다.\\n당사자의 진정한 의사 등을 종합적으로 고찰하여 논리와 경험법칙에 의하여 합리적으로 해석하여야 한다.',\n",
       "  'sum_sents_idxes': [0, 9, 3]},\n",
       " {'sum_sents_tokenized': '위 조합의 보수규정상 정원에 있는 고용원에 준하여 퇴직금을 지급하는 것이 상당하다.\\n또한 일용으로 임금을 계산한 일용관계가 간단없이 계속되어 상용근로자와 같이 월급으로 임금을 받았다면\\n대부분 바로 그 다음날에 다시 임명하거나 해임한 날로부터 불과 4일 또는 20일후에 다시 임명한 것처럼 서류를 만들어 놓았으나',\n",
       "  'sum_sents_idxes': [4, 3, 1]}]"
      ]
     },
     "execution_count": 5,
     "metadata": {},
     "output_type": "execute_result"
    }
   ],
   "source": [
    "test_pred_list = []\n",
    "for line in lines:\n",
    "    sum_sents_text, sum_sents_idxes = line.rsplit(r'[', maxsplit=1)\n",
    "    sum_sents_text = sum_sents_text.replace('<q>', '\\n')\n",
    "    sum_sents_idx_list = [ int(str.strip(i)) for i in sum_sents_idxes[:-2].split(', ')]\n",
    "    test_pred_list.append({'sum_sents_tokenized': sum_sents_text,\n",
    "                           'sum_sents_idxes': sum_sents_idx_list\n",
    "                          })\n",
    "test_pred_list[:5]"
   ]
  },
  {
   "cell_type": "code",
   "execution_count": 7,
   "id": "c92cedd9",
   "metadata": {
    "ExecuteTime": {
     "end_time": "2021-06-28T07:34:37.291465Z",
     "start_time": "2021-06-28T07:34:37.285899Z"
    }
   },
   "outputs": [
    {
     "data": {
      "text/plain": [
       "[1324]"
      ]
     },
     "execution_count": 7,
     "metadata": {},
     "output_type": "execute_result"
    }
   ],
   "source": [
    "error_pred = []\n",
    "\n",
    "for i,pred in enumerate(test_pred_list):\n",
    "    if len(pred['sum_sents_idxes']) != 3:\n",
    "        error_pred.append(i)\n",
    "        \n",
    "error_pred"
   ]
  },
  {
   "cell_type": "code",
   "execution_count": 10,
   "id": "b394a932",
   "metadata": {
    "ExecuteTime": {
     "end_time": "2021-06-28T07:35:22.804590Z",
     "start_time": "2021-06-28T07:35:22.798990Z"
    }
   },
   "outputs": [
    {
     "data": {
      "text/plain": [
       "{'sum_sents_tokenized': '등은 부동산등기법 제131조 제2호 소정의 서면이라 할 수 없다.\\n질의회시 및 감정도면',\n",
       " 'sum_sents_idxes': [1, 0]}"
      ]
     },
     "execution_count": 10,
     "metadata": {},
     "output_type": "execute_result"
    }
   ],
   "source": [
    "test_json[error_pred[0]]['article_original']\n",
    "test_pred_list[error_pred[0]]"
   ]
  },
  {
   "cell_type": "code",
   "execution_count": 11,
   "id": "317f7018",
   "metadata": {
    "ExecuteTime": {
     "end_time": "2021-06-28T07:39:37.958642Z",
     "start_time": "2021-06-28T07:39:37.953909Z"
    }
   },
   "outputs": [],
   "source": [
    "test_pred_list[error_pred[0]]['sum_sents_idxes'] = [0,1,2]"
   ]
  },
  {
   "cell_type": "code",
   "execution_count": 12,
   "id": "fee688b3",
   "metadata": {
    "ExecuteTime": {
     "end_time": "2021-06-28T07:39:39.451316Z",
     "start_time": "2021-06-28T07:39:39.443871Z"
    }
   },
   "outputs": [
    {
     "data": {
      "text/plain": [
       "[{'ID': 79095, 'summary_index1': 1, 'summary_index2': 5, 'summary_index3': 4},\n",
       " {'ID': 204506, 'summary_index1': 9, 'summary_index2': 0, 'summary_index3': 5},\n",
       " {'ID': 142079,\n",
       "  'summary_index1': 3,\n",
       "  'summary_index2': 10,\n",
       "  'summary_index3': 6},\n",
       " {'ID': 110816, 'summary_index1': 0, 'summary_index2': 9, 'summary_index3': 3},\n",
       " {'ID': 207249, 'summary_index1': 4, 'summary_index2': 3, 'summary_index3': 1}]"
      ]
     },
     "execution_count": 12,
     "metadata": {},
     "output_type": "execute_result"
    }
   ],
   "source": [
    "for i in range(len(submission_json)):\n",
    "    submission_json[i]['summary_index1'] = test_pred_list[i]['sum_sents_idxes'][0]\n",
    "    submission_json[i]['summary_index2'] = test_pred_list[i]['sum_sents_idxes'][1]\n",
    "    submission_json[i]['summary_index3'] = test_pred_list[i]['sum_sents_idxes'][2]\n",
    "    \n",
    "submission_json[:5]"
   ]
  },
  {
   "cell_type": "code",
   "execution_count": 13,
   "id": "5e921320",
   "metadata": {
    "ExecuteTime": {
     "end_time": "2021-06-28T07:41:41.063831Z",
     "start_time": "2021-06-28T07:41:41.042211Z"
    }
   },
   "outputs": [],
   "source": [
    "with open('results/submission.json', 'w') as outfile:\n",
    "    json.dump(submission_json, outfile)"
   ]
  },
  {
   "cell_type": "code",
   "execution_count": null,
   "id": "8918d3a4",
   "metadata": {},
   "outputs": [],
   "source": []
  }
 ],
 "metadata": {
  "kernelspec": {
   "display_name": "Python 3",
   "language": "python",
   "name": "python3"
  },
  "language_info": {
   "codemirror_mode": {
    "name": "ipython",
    "version": 3
   },
   "file_extension": ".py",
   "mimetype": "text/x-python",
   "name": "python",
   "nbconvert_exporter": "python",
   "pygments_lexer": "ipython3",
   "version": "3.6.9"
  },
  "toc": {
   "base_numbering": 1,
   "nav_menu": {},
   "number_sections": true,
   "sideBar": true,
   "skip_h1_title": false,
   "title_cell": "Table of Contents",
   "title_sidebar": "Contents",
   "toc_cell": false,
   "toc_position": {},
   "toc_section_display": true,
   "toc_window_display": false
  },
  "varInspector": {
   "cols": {
    "lenName": 16,
    "lenType": 16,
    "lenVar": 40
   },
   "kernels_config": {
    "python": {
     "delete_cmd_postfix": "",
     "delete_cmd_prefix": "del ",
     "library": "var_list.py",
     "varRefreshCmd": "print(var_dic_list())"
    },
    "r": {
     "delete_cmd_postfix": ") ",
     "delete_cmd_prefix": "rm(",
     "library": "var_list.r",
     "varRefreshCmd": "cat(var_dic_list()) "
    }
   },
   "types_to_exclude": [
    "module",
    "function",
    "builtin_function_or_method",
    "instance",
    "_Feature"
   ],
   "window_display": false
  }
 },
 "nbformat": 4,
 "nbformat_minor": 5
}
