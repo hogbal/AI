{
 "cells": [
  {
   "cell_type": "markdown",
   "metadata": {},
   "source": [
    "# import"
   ]
  },
  {
   "cell_type": "code",
   "execution_count": 1,
   "metadata": {},
   "outputs": [],
   "source": [
    "import os\n",
    "import io\n",
    "import json\n",
    "import pandas as pd\n",
    "import pandas_profiling\n",
    "import numpy as np\n",
    "import tensorflow as tf\n",
    "import matplotlib.pyplot as plt\n",
    "import pydicom\n",
    "\n",
    "from PIL import Image\n",
    "from pydicom.pixel_data_handlers.util import apply_voi_lut\n",
    "from glob import glob\n",
    "from tqdm import tqdm\n",
    "from sklearn.model_selection import train_test_split"
   ]
  },
  {
   "cell_type": "markdown",
   "metadata": {},
   "source": [
    "# dataset"
   ]
  },
  {
   "cell_type": "code",
   "execution_count": 2,
   "metadata": {},
   "outputs": [
    {
     "data": {
      "text/html": [
       "<div>\n",
       "<style scoped>\n",
       "    .dataframe tbody tr th:only-of-type {\n",
       "        vertical-align: middle;\n",
       "    }\n",
       "\n",
       "    .dataframe tbody tr th {\n",
       "        vertical-align: top;\n",
       "    }\n",
       "\n",
       "    .dataframe thead th {\n",
       "        text-align: right;\n",
       "    }\n",
       "</style>\n",
       "<table border=\"1\" class=\"dataframe\">\n",
       "  <thead>\n",
       "    <tr style=\"text-align: right;\">\n",
       "      <th></th>\n",
       "      <th>id</th>\n",
       "      <th>boxes</th>\n",
       "      <th>StudyInstanceUID</th>\n",
       "      <th>Negative for Pneumonia</th>\n",
       "      <th>Typical Appearance</th>\n",
       "      <th>Indeterminate Appearance</th>\n",
       "      <th>Atypical Appearance</th>\n",
       "    </tr>\n",
       "  </thead>\n",
       "  <tbody>\n",
       "    <tr>\n",
       "      <th>0</th>\n",
       "      <td>000a312787f2</td>\n",
       "      <td>[{\"xmin\": 119, \"ymin\": 107, \"xmax\": 273, \"ymax...</td>\n",
       "      <td>5776db0cec75</td>\n",
       "      <td>0</td>\n",
       "      <td>1</td>\n",
       "      <td>0</td>\n",
       "      <td>0</td>\n",
       "    </tr>\n",
       "    <tr>\n",
       "      <th>1</th>\n",
       "      <td>0012ff7358bc</td>\n",
       "      <td>[{\"xmin\": 142, \"ymin\": 50, \"xmax\": 324, \"ymax\"...</td>\n",
       "      <td>9d514ce429a7</td>\n",
       "      <td>0</td>\n",
       "      <td>1</td>\n",
       "      <td>0</td>\n",
       "      <td>0</td>\n",
       "    </tr>\n",
       "    <tr>\n",
       "      <th>2</th>\n",
       "      <td>001398f4ff4f</td>\n",
       "      <td>[{\"xmin\": 408, \"ymin\": 397, \"xmax\": 550, \"ymax...</td>\n",
       "      <td>28dddc8559b2</td>\n",
       "      <td>0</td>\n",
       "      <td>0</td>\n",
       "      <td>0</td>\n",
       "      <td>1</td>\n",
       "    </tr>\n",
       "    <tr>\n",
       "      <th>3</th>\n",
       "      <td>001bd15d1891</td>\n",
       "      <td>[{\"xmin\": 117, \"ymin\": 240, \"xmax\": 251, \"ymax...</td>\n",
       "      <td>dfd9fdd85a3e</td>\n",
       "      <td>0</td>\n",
       "      <td>1</td>\n",
       "      <td>0</td>\n",
       "      <td>0</td>\n",
       "    </tr>\n",
       "    <tr>\n",
       "      <th>4</th>\n",
       "      <td>0022227f5adf</td>\n",
       "      <td>[{\"xmin\": 390, \"ymin\": 128, \"xmax\": 469, \"ymax...</td>\n",
       "      <td>84543edc24c2</td>\n",
       "      <td>0</td>\n",
       "      <td>0</td>\n",
       "      <td>1</td>\n",
       "      <td>0</td>\n",
       "    </tr>\n",
       "  </tbody>\n",
       "</table>\n",
       "</div>"
      ],
      "text/plain": [
       "             id                                              boxes  \\\n",
       "0  000a312787f2  [{\"xmin\": 119, \"ymin\": 107, \"xmax\": 273, \"ymax...   \n",
       "1  0012ff7358bc  [{\"xmin\": 142, \"ymin\": 50, \"xmax\": 324, \"ymax\"...   \n",
       "2  001398f4ff4f  [{\"xmin\": 408, \"ymin\": 397, \"xmax\": 550, \"ymax...   \n",
       "3  001bd15d1891  [{\"xmin\": 117, \"ymin\": 240, \"xmax\": 251, \"ymax...   \n",
       "4  0022227f5adf  [{\"xmin\": 390, \"ymin\": 128, \"xmax\": 469, \"ymax...   \n",
       "\n",
       "  StudyInstanceUID  Negative for Pneumonia  Typical Appearance  \\\n",
       "0     5776db0cec75                       0                   1   \n",
       "1     9d514ce429a7                       0                   1   \n",
       "2     28dddc8559b2                       0                   0   \n",
       "3     dfd9fdd85a3e                       0                   1   \n",
       "4     84543edc24c2                       0                   0   \n",
       "\n",
       "   Indeterminate Appearance  Atypical Appearance  \n",
       "0                         0                    0  \n",
       "1                         0                    0  \n",
       "2                         0                    1  \n",
       "3                         0                    0  \n",
       "4                         1                    0  "
      ]
     },
     "execution_count": 2,
     "metadata": {},
     "output_type": "execute_result"
    }
   ],
   "source": [
    "train_df = pd.read_csv('dataset/mod_train_df.csv')\n",
    "train_df.head()"
   ]
  },
  {
   "cell_type": "code",
   "execution_count": 3,
   "metadata": {},
   "outputs": [
    {
     "name": "stdout",
     "output_type": "stream",
     "text": [
      "<class 'pandas.core.frame.DataFrame'>\n",
      "RangeIndex: 4294 entries, 0 to 4293\n",
      "Data columns (total 7 columns):\n",
      " #   Column                    Non-Null Count  Dtype \n",
      "---  ------                    --------------  ----- \n",
      " 0   id                        4294 non-null   object\n",
      " 1   boxes                     4294 non-null   object\n",
      " 2   StudyInstanceUID          4294 non-null   object\n",
      " 3   Negative for Pneumonia    4294 non-null   int64 \n",
      " 4   Typical Appearance        4294 non-null   int64 \n",
      " 5   Indeterminate Appearance  4294 non-null   int64 \n",
      " 6   Atypical Appearance       4294 non-null   int64 \n",
      "dtypes: int64(4), object(3)\n",
      "memory usage: 235.0+ KB\n"
     ]
    }
   ],
   "source": [
    "train_df.info()"
   ]
  },
  {
   "cell_type": "markdown",
   "metadata": {},
   "source": [
    "# TFRecord"
   ]
  },
  {
   "cell_type": "code",
   "execution_count": 4,
   "metadata": {},
   "outputs": [
    {
     "data": {
      "text/plain": [
       "(3864, 430)"
      ]
     },
     "execution_count": 4,
     "metadata": {},
     "output_type": "execute_result"
    }
   ],
   "source": [
    "train_df, eval_df = train_test_split(train_df, test_size=0.1)\n",
    "len(train_df),len(eval_df)"
   ]
  },
  {
   "cell_type": "code",
   "execution_count": 5,
   "metadata": {},
   "outputs": [],
   "source": [
    "def int64_feature(value):\n",
    "    return tf.train.Feature(int64_list=tf.train.Int64List(value=[value]))\n",
    "\n",
    "def int64_list_feature(value):\n",
    "    return tf.train.Feature(int64_list=tf.train.Int64List(value=value))\n",
    "\n",
    "def bytes_feature(value):\n",
    "    return tf.train.Feature(bytes_list=tf.train.BytesList(value=[value]))\n",
    "\n",
    "def bytes_list_feature(value):\n",
    "    return tf.train.Feature(bytes_list=tf.train.BytesList(value=value))\n",
    "\n",
    "def float_list_feature(value):\n",
    "    return tf.train.Feature(float_list=tf.train.FloatList(value=value))"
   ]
  },
  {
   "cell_type": "code",
   "execution_count": 6,
   "metadata": {},
   "outputs": [],
   "source": [
    "def create_tf_example(dir_name, file_name, data):\n",
    "    with tf.io.gfile.GFile(os.path.join(dir_name, '{}'.format(file_name)), 'rb') as fid:\n",
    "        encoded_jpg = fid.read()\n",
    "    encoded_jpg_io = io.BytesIO(encoded_jpg)\n",
    "    image = Image.open(encoded_jpg_io)\n",
    "    width, height = image.size\n",
    "    \n",
    "    filename = file_name.encode('utf8')\n",
    "    image_format = b'jpg'\n",
    "    xmins = []\n",
    "    xmaxs = []\n",
    "    ymins = []\n",
    "    ymaxs = []\n",
    "    classes_text = []\n",
    "    classes = []\n",
    "\n",
    "    for index, row in data.iterrows():\n",
    "        xmins.append(row['xmin'] / width)\n",
    "        xmaxs.append(row['xmax'] / width)\n",
    "        ymins.append(row['ymin'] / height)\n",
    "        ymaxs.append(row['ymax'] / height)\n",
    "        classes_text.append(row['class'].encode('utf8'))\n",
    "        classes.append(class_text_to_int(row['class']))\n",
    "\n",
    "    tf_example = tf.train.Example(features=tf.train.Features(feature={\n",
    "        'image/height': int64_feature(height),\n",
    "        'image/width': int64_feature(width),\n",
    "        'image/filename': bytes_feature(filename),\n",
    "        'image/source_id': bytes_feature(filename),\n",
    "        'image/encoded': bytes_feature(encoded_jpg),\n",
    "        'image/format': bytes_feature(image_format),\n",
    "        'image/object/bbox/xmin': float_list_feature(xmins),\n",
    "        'image/object/bbox/xmax': float_list_feature(xmaxs),\n",
    "        'image/object/bbox/ymin': float_list_feature(ymins),\n",
    "        'image/object/bbox/ymax': float_list_feature(ymaxs),\n",
    "        'image/object/class/text': bytes_list_feature(classes_text),\n",
    "        'image/object/class/label': int64_list_feature(classes),\n",
    "    }))\n",
    "    return tf_example"
   ]
  },
  {
   "cell_type": "code",
   "execution_count": 7,
   "metadata": {},
   "outputs": [],
   "source": [
    "def create_df(data):\n",
    "    dict_data = json.loads(data['boxes'])\n",
    "    if(data['Typical Appearance']==1):\n",
    "        classes = 'Typical Appearance'\n",
    "    elif(data['Indeterminate Appearance']==1):\n",
    "        classes = 'Indeterminate Appearance'\n",
    "    elif(data['Atypical Appearance']==1):\n",
    "        classes = 'Atypical Appearance'\n",
    "    else:\n",
    "        print(\"ERROR\")\n",
    "        \n",
    "        \n",
    "    return_list = []\n",
    "    for data in dict_data:\n",
    "        value = (classes,\n",
    "                 data['xmin'],\n",
    "                 data['ymin'],\n",
    "                 data['xmax'],\n",
    "                 data['ymax']\n",
    "        )\n",
    "        return_list.append(value)\n",
    "        \n",
    "    column_name = ['class','xmin','ymin','xmax','ymax']\n",
    "    return_df = pd.DataFrame(return_list, columns=column_name)\n",
    "    return return_df"
   ]
  },
  {
   "cell_type": "code",
   "execution_count": 8,
   "metadata": {},
   "outputs": [],
   "source": [
    "def class_text_to_int(value):\n",
    "    class2int = {\n",
    "        'Typical Appearance':1,\n",
    "        'Indeterminate Appearance':2,\n",
    "        'Atypical Appearance':3\n",
    "    }\n",
    "    return class2int[value]"
   ]
  },
  {
   "cell_type": "code",
   "execution_count": 9,
   "metadata": {},
   "outputs": [
    {
     "name": "stderr",
     "output_type": "stream",
     "text": [
      "3864it [00:04, 808.00it/s]\n"
     ]
    }
   ],
   "source": [
    "train_df['boxes'] = train_df['boxes'].str.replace(r'\\'','\"')\n",
    "\n",
    "writer = tf.io.TFRecordWriter('dataset/tfrecord/train.tfrecord')\n",
    "\n",
    "for index, data in tqdm(train_df.iterrows()):\n",
    "    if not glob('dataset/train/'+data['StudyInstanceUID']+'/*/'+data['id']+'.dcm'):\n",
    "        train_df.drop(index)\n",
    "        continue\n",
    "    else:\n",
    "        path = glob('dataset/train/'+data['StudyInstanceUID']+'/*/'+data['id']+'.dcm')[0]\n",
    "        \n",
    "    dir_name  = os.path.dirname(path)\n",
    "    file_name = os.path.basename(path)[:-4]+'.jpg'\n",
    "    \n",
    "    input_data = create_df(data)\n",
    "    tf_example = create_tf_example(dir_name,file_name,input_data)\n",
    "    writer.write(tf_example.SerializeToString())\n",
    "writer.close()"
   ]
  },
  {
   "cell_type": "code",
   "execution_count": 10,
   "metadata": {},
   "outputs": [
    {
     "name": "stderr",
     "output_type": "stream",
     "text": [
      "430it [00:00, 807.21it/s]\n"
     ]
    }
   ],
   "source": [
    "eval_df['boxes'] = eval_df['boxes'].str.replace(r'\\'','\"')\n",
    "\n",
    "writer = tf.io.TFRecordWriter('dataset/tfrecord/eval.tfrecord')\n",
    "\n",
    "for index, data in tqdm(eval_df.iterrows()):\n",
    "    if not glob('dataset/train/'+data['StudyInstanceUID']+'/*/'+data['id']+'.dcm'):\n",
    "        eval_df.drop(index)\n",
    "        continue\n",
    "    else:\n",
    "        path = glob('dataset/train/'+data['StudyInstanceUID']+'/*/'+data['id']+'.dcm')[0]\n",
    "        \n",
    "    dir_name  = os.path.dirname(path)\n",
    "    file_name = os.path.basename(path)[:-4]+'.jpg'\n",
    "    \n",
    "    input_data = create_df(data)\n",
    "    tf_example = create_tf_example(dir_name,file_name,input_data)\n",
    "    writer.write(tf_example.SerializeToString())\n",
    "writer.close()"
   ]
  }
 ],
 "metadata": {
  "kernelspec": {
   "display_name": "Python 3",
   "language": "python",
   "name": "python3"
  },
  "language_info": {
   "codemirror_mode": {
    "name": "ipython",
    "version": 3
   },
   "file_extension": ".py",
   "mimetype": "text/x-python",
   "name": "python",
   "nbconvert_exporter": "python",
   "pygments_lexer": "ipython3",
   "version": "3.6.9"
  }
 },
 "nbformat": 4,
 "nbformat_minor": 2
}
