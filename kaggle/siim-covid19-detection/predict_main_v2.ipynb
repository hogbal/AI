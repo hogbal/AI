{
 "cells": [
  {
   "cell_type": "markdown",
   "id": "experimental-belle",
   "metadata": {},
   "source": [
    "# import"
   ]
  },
  {
   "cell_type": "code",
   "execution_count": null,
   "id": "improving-probe",
   "metadata": {
    "ExecuteTime": {
     "end_time": "2021-06-08T01:46:53.740854Z",
     "start_time": "2021-06-08T01:46:52.175309Z"
    },
    "hide_input": false
   },
   "outputs": [],
   "source": [
    "import io\n",
    "import os\n",
    "import scipy.misc\n",
    "import numpy as np\n",
    "import six\n",
    "import time\n",
    "import matplotlib\n",
    "import matplotlib.pyplot as plt\n",
    "import tensorflow as tf\n",
    "import pandas as pd\n",
    "\n",
    "from tqdm import tqdm\n",
    "from six import BytesIO\n",
    "from PIL import Image, ImageDraw, ImageFont\n",
    "from glob import glob\n",
    "from object_detection.utils import visualization_utils as viz_utils\n",
    "from object_detection.utils import label_map_util\n",
    "\n",
    "%matplotlib inline"
   ]
  },
  {
   "cell_type": "markdown",
   "id": "intelligent-principle",
   "metadata": {},
   "source": [
    "# load model"
   ]
  },
  {
   "cell_type": "code",
   "execution_count": null,
   "id": "french-completion",
   "metadata": {
    "ExecuteTime": {
     "end_time": "2021-06-08T01:47:01.002758Z",
     "start_time": "2021-06-08T01:46:53.748754Z"
    }
   },
   "outputs": [],
   "source": [
    "PATH_TO_MODEL_DIR = 'workspace/exported-models/ssd_resnet_v1'\n",
    "\n",
    "PATH_TO_SAVED_MODEL = PATH_TO_MODEL_DIR + \"/saved_model\"\n",
    "\n",
    "print('Loading model...', end='')\n",
    "start_time = time.time()\n",
    "\n",
    "detect_fn = tf.saved_model.load(PATH_TO_SAVED_MODEL)\n",
    "\n",
    "end_time = time.time()\n",
    "elapsed_time = end_time - start_time\n",
    "print('Done! Took {} seconds'.format(elapsed_time))"
   ]
  },
  {
   "cell_type": "markdown",
   "id": "complicated-dryer",
   "metadata": {},
   "source": [
    "# load test image"
   ]
  },
  {
   "cell_type": "code",
   "execution_count": null,
   "id": "f4bb6e08",
   "metadata": {
    "ExecuteTime": {
     "end_time": "2021-06-08T01:47:01.019751Z",
     "start_time": "2021-06-08T01:47:01.007539Z"
    }
   },
   "outputs": [],
   "source": [
    "submission_df = pd.read_csv('dataset/sample_submission.csv')\n",
    "submission_df.head()"
   ]
  },
  {
   "cell_type": "code",
   "execution_count": null,
   "id": "parliamentary-romania",
   "metadata": {
    "ExecuteTime": {
     "end_time": "2021-06-08T01:47:01.030618Z",
     "start_time": "2021-06-08T01:47:01.026737Z"
    }
   },
   "outputs": [],
   "source": [
    "def load_image_into_numpy_array(path):\n",
    "    img_data = tf.io.gfile.GFile(path, 'rb').read()\n",
    "    image = Image.open(BytesIO(img_data))\n",
    "    (im_width, im_height) = image.size\n",
    "    return np.array(image.getdata()).reshape((im_height, im_width, 3)).astype(np.uint8), im_width, im_height"
   ]
  },
  {
   "cell_type": "code",
   "execution_count": null,
   "id": "hired-stock",
   "metadata": {
    "ExecuteTime": {
     "end_time": "2021-06-08T01:47:01.038948Z",
     "start_time": "2021-06-08T01:47:01.037144Z"
    }
   },
   "outputs": [],
   "source": [
    "category_index = {\n",
    "    1: {'id': 1, 'name': 'typical'},\n",
    "    2: {'id': 2, 'name': 'indeterminate'},\n",
    "    3: {'id': 3, 'name': 'atypical'}\n",
    "}"
   ]
  },
  {
   "cell_type": "code",
   "execution_count": null,
   "id": "c2b20747",
   "metadata": {
    "ExecuteTime": {
     "start_time": "2021-06-08T01:46:55.715Z"
    },
    "hide_input": false,
    "scrolled": false
   },
   "outputs": [],
   "source": [
    "predicts = []\n",
    "count = 0\n",
    "\n",
    "for index, data in tqdm(submission_df.iterrows()):\n",
    "    if(data['id'].find('study') != -1):\n",
    "        path = glob('dataset/test/'+data['id'][:-6]+'/*/*.jpg')[0]\n",
    "\n",
    "    else:\n",
    "        path = glob('dataset/test/*/*/'+data['id'][:-6]+'.jpg')[0]\n",
    "\n",
    "    (image_np, width, height) = load_image_into_numpy_array(path)\n",
    "    input_tensor = np.expand_dims(image_np, 0)\n",
    "    detections = detect_fn(input_tensor)\n",
    "\n",
    "    if(data['id'].find('study') != -1):\n",
    "        str_pred = []\n",
    "        for index in range(len(detections['detection_scores'][0])):\n",
    "            if(detections['detection_scores'][0].numpy()[index] > 0.5):\n",
    "                str_pred.append(category_index[detections['detection_classes'][0].numpy(\n",
    "                ).astype(np.int32)[index]]['name'])\n",
    "                str_pred.append(\n",
    "                    str(detections['detection_scores'][0].numpy()[index]))\n",
    "                str_pred.append('0 0 1 1')\n",
    "            else:\n",
    "                if(not str_pred):\n",
    "                    predicts.append('negative 1 0 0 1 1')\n",
    "                else:\n",
    "                    predicts.append(' '.join(str_pred))\n",
    "                break\n",
    "    else:\n",
    "        str_pred = []\n",
    "        for index in range(len(detections['detection_scores'][0])):\n",
    "            if(detections['detection_scores'][0].numpy()[index] > 0.5):\n",
    "                str_pred.append(category_index[detections['detection_classes'][0].numpy(\n",
    "                ).astype(np.int32)[index]]['name'])\n",
    "                str_pred.append(\n",
    "                    str(detections['detection_scores'][0].numpy()[index]))\n",
    "                str_pred.append(\n",
    "                    str(int(np.around(detections['detection_boxes'][0].numpy()[index][0]*width))))\n",
    "                str_pred.append(\n",
    "                    str(int(np.around(detections['detection_boxes'][0].numpy()[index][1]*height))))\n",
    "                str_pred.append(\n",
    "                    str(int(np.around(detections['detection_boxes'][0].numpy()[index][2]*width))))\n",
    "                str_pred.append(\n",
    "                    str(int(np.around(detections['detection_boxes'][0].numpy()[index][3]*height))))\n",
    "            else:\n",
    "                if(not str_pred):\n",
    "                    predicts.append('negative 1 0 0 1 1')\n",
    "                else:\n",
    "                    predicts.append(' '.join(str_pred))\n",
    "                break"
   ]
  },
  {
   "cell_type": "code",
   "execution_count": null,
   "id": "85f4159f",
   "metadata": {
    "ExecuteTime": {
     "start_time": "2021-06-08T01:21:58.575Z"
    }
   },
   "outputs": [],
   "source": [
    "submission_df['PredictionString'] = predicts\n",
    "submission_df.head()"
   ]
  },
  {
   "cell_type": "code",
   "execution_count": null,
   "id": "9fed37a5",
   "metadata": {},
   "outputs": [],
   "source": []
  }
 ],
 "metadata": {
  "kernelspec": {
   "display_name": "Python 3",
   "language": "python",
   "name": "python3"
  },
  "language_info": {
   "codemirror_mode": {
    "name": "ipython",
    "version": 3
   },
   "file_extension": ".py",
   "mimetype": "text/x-python",
   "name": "python",
   "nbconvert_exporter": "python",
   "pygments_lexer": "ipython3",
   "version": "3.6.9"
  },
  "toc": {
   "base_numbering": 1,
   "nav_menu": {},
   "number_sections": true,
   "sideBar": true,
   "skip_h1_title": false,
   "title_cell": "Table of Contents",
   "title_sidebar": "Contents",
   "toc_cell": false,
   "toc_position": {
    "height": "calc(100% - 180px)",
    "left": "10px",
    "top": "150px",
    "width": "296.390625px"
   },
   "toc_section_display": true,
   "toc_window_display": true
  },
  "varInspector": {
   "cols": {
    "lenName": 16,
    "lenType": 16,
    "lenVar": 40
   },
   "kernels_config": {
    "python": {
     "delete_cmd_postfix": "",
     "delete_cmd_prefix": "del ",
     "library": "var_list.py",
     "varRefreshCmd": "print(var_dic_list())"
    },
    "r": {
     "delete_cmd_postfix": ") ",
     "delete_cmd_prefix": "rm(",
     "library": "var_list.r",
     "varRefreshCmd": "cat(var_dic_list()) "
    }
   },
   "position": {
    "height": "412px",
    "left": "1472px",
    "right": "20px",
    "top": "120px",
    "width": "300px"
   },
   "types_to_exclude": [
    "module",
    "function",
    "builtin_function_or_method",
    "instance",
    "_Feature"
   ],
   "window_display": true
  }
 },
 "nbformat": 4,
 "nbformat_minor": 5
}
